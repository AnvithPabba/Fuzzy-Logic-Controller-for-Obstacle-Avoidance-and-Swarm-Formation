{
  "cells": [
    {
      "cell_type": "markdown",
      "source": [
        "\n",
        "**Fuzzy Logic Controller for Swarm Formation Control and Obstacle Avoidance** <br>\n",
        "\n",
        "Anvith Pabba <br>\n"
      ],
      "metadata": {
        "id": "xd_b9NjPu6PR"
      }
    },
    {
      "cell_type": "markdown",
      "source": [
        "We first have to download the Fuzzy_Expert package"
      ],
      "metadata": {
        "id": "lLTgQuk1xrk5"
      }
    },
    {
      "cell_type": "code",
      "source": [
        "pip install fuzzy_expert"
      ],
      "metadata": {
        "colab": {
          "base_uri": "https://localhost:8080/"
        },
        "id": "wPASOgRpu8Zd",
        "outputId": "3501edd4-6a24-49e9-ea2d-80f28cc43b32"
      },
      "execution_count": null,
      "outputs": [
        {
          "output_type": "stream",
          "name": "stdout",
          "text": [
            "Looking in indexes: https://pypi.org/simple, https://us-python.pkg.dev/colab-wheels/public/simple/\n",
            "Requirement already satisfied: fuzzy_expert in /usr/local/lib/python3.7/dist-packages (0.1.0)\n",
            "Requirement already satisfied: matplotlib in /usr/local/lib/python3.7/dist-packages (from fuzzy_expert) (3.2.2)\n",
            "Requirement already satisfied: ipywidgets in /usr/local/lib/python3.7/dist-packages (from fuzzy_expert) (7.7.1)\n",
            "Requirement already satisfied: progressbar2 in /usr/local/lib/python3.7/dist-packages (from fuzzy_expert) (3.38.0)\n",
            "Requirement already satisfied: pandas in /usr/local/lib/python3.7/dist-packages (from fuzzy_expert) (1.3.5)\n",
            "Requirement already satisfied: numpy in /usr/local/lib/python3.7/dist-packages (from fuzzy_expert) (1.21.6)\n",
            "Requirement already satisfied: jupyterlab-widgets>=1.0.0 in /usr/local/lib/python3.7/dist-packages (from ipywidgets->fuzzy_expert) (3.0.3)\n",
            "Requirement already satisfied: widgetsnbextension~=3.6.0 in /usr/local/lib/python3.7/dist-packages (from ipywidgets->fuzzy_expert) (3.6.1)\n",
            "Requirement already satisfied: traitlets>=4.3.1 in /usr/local/lib/python3.7/dist-packages (from ipywidgets->fuzzy_expert) (5.1.1)\n",
            "Requirement already satisfied: ipykernel>=4.5.1 in /usr/local/lib/python3.7/dist-packages (from ipywidgets->fuzzy_expert) (5.3.4)\n",
            "Requirement already satisfied: ipython>=4.0.0 in /usr/local/lib/python3.7/dist-packages (from ipywidgets->fuzzy_expert) (7.9.0)\n",
            "Requirement already satisfied: ipython-genutils~=0.2.0 in /usr/local/lib/python3.7/dist-packages (from ipywidgets->fuzzy_expert) (0.2.0)\n",
            "Requirement already satisfied: tornado>=4.2 in /usr/local/lib/python3.7/dist-packages (from ipykernel>=4.5.1->ipywidgets->fuzzy_expert) (6.0.4)\n",
            "Requirement already satisfied: jupyter-client in /usr/local/lib/python3.7/dist-packages (from ipykernel>=4.5.1->ipywidgets->fuzzy_expert) (6.1.12)\n",
            "Requirement already satisfied: pickleshare in /usr/local/lib/python3.7/dist-packages (from ipython>=4.0.0->ipywidgets->fuzzy_expert) (0.7.5)\n",
            "Requirement already satisfied: prompt-toolkit<2.1.0,>=2.0.0 in /usr/local/lib/python3.7/dist-packages (from ipython>=4.0.0->ipywidgets->fuzzy_expert) (2.0.10)\n",
            "Requirement already satisfied: setuptools>=18.5 in /usr/local/lib/python3.7/dist-packages (from ipython>=4.0.0->ipywidgets->fuzzy_expert) (57.4.0)\n",
            "Requirement already satisfied: decorator in /usr/local/lib/python3.7/dist-packages (from ipython>=4.0.0->ipywidgets->fuzzy_expert) (4.4.2)\n",
            "Requirement already satisfied: jedi>=0.10 in /usr/local/lib/python3.7/dist-packages (from ipython>=4.0.0->ipywidgets->fuzzy_expert) (0.18.2)\n",
            "Requirement already satisfied: pexpect in /usr/local/lib/python3.7/dist-packages (from ipython>=4.0.0->ipywidgets->fuzzy_expert) (4.8.0)\n",
            "Requirement already satisfied: pygments in /usr/local/lib/python3.7/dist-packages (from ipython>=4.0.0->ipywidgets->fuzzy_expert) (2.6.1)\n",
            "Requirement already satisfied: backcall in /usr/local/lib/python3.7/dist-packages (from ipython>=4.0.0->ipywidgets->fuzzy_expert) (0.2.0)\n",
            "Requirement already satisfied: parso<0.9.0,>=0.8.0 in /usr/local/lib/python3.7/dist-packages (from jedi>=0.10->ipython>=4.0.0->ipywidgets->fuzzy_expert) (0.8.3)\n",
            "Requirement already satisfied: wcwidth in /usr/local/lib/python3.7/dist-packages (from prompt-toolkit<2.1.0,>=2.0.0->ipython>=4.0.0->ipywidgets->fuzzy_expert) (0.2.5)\n",
            "Requirement already satisfied: six>=1.9.0 in /usr/local/lib/python3.7/dist-packages (from prompt-toolkit<2.1.0,>=2.0.0->ipython>=4.0.0->ipywidgets->fuzzy_expert) (1.15.0)\n",
            "Requirement already satisfied: notebook>=4.4.1 in /usr/local/lib/python3.7/dist-packages (from widgetsnbextension~=3.6.0->ipywidgets->fuzzy_expert) (5.7.16)\n",
            "Requirement already satisfied: prometheus-client in /usr/local/lib/python3.7/dist-packages (from notebook>=4.4.1->widgetsnbextension~=3.6.0->ipywidgets->fuzzy_expert) (0.15.0)\n",
            "Requirement already satisfied: pyzmq>=17 in /usr/local/lib/python3.7/dist-packages (from notebook>=4.4.1->widgetsnbextension~=3.6.0->ipywidgets->fuzzy_expert) (23.2.1)\n",
            "Requirement already satisfied: jupyter-core>=4.4.0 in /usr/local/lib/python3.7/dist-packages (from notebook>=4.4.1->widgetsnbextension~=3.6.0->ipywidgets->fuzzy_expert) (4.11.2)\n",
            "Requirement already satisfied: jinja2<=3.0.0 in /usr/local/lib/python3.7/dist-packages (from notebook>=4.4.1->widgetsnbextension~=3.6.0->ipywidgets->fuzzy_expert) (2.11.3)\n",
            "Requirement already satisfied: terminado>=0.8.1 in /usr/local/lib/python3.7/dist-packages (from notebook>=4.4.1->widgetsnbextension~=3.6.0->ipywidgets->fuzzy_expert) (0.13.3)\n",
            "Requirement already satisfied: nbformat in /usr/local/lib/python3.7/dist-packages (from notebook>=4.4.1->widgetsnbextension~=3.6.0->ipywidgets->fuzzy_expert) (5.7.0)\n",
            "Requirement already satisfied: Send2Trash in /usr/local/lib/python3.7/dist-packages (from notebook>=4.4.1->widgetsnbextension~=3.6.0->ipywidgets->fuzzy_expert) (1.8.0)\n",
            "Requirement already satisfied: nbconvert<6.0 in /usr/local/lib/python3.7/dist-packages (from notebook>=4.4.1->widgetsnbextension~=3.6.0->ipywidgets->fuzzy_expert) (5.6.1)\n",
            "Requirement already satisfied: MarkupSafe>=0.23 in /usr/local/lib/python3.7/dist-packages (from jinja2<=3.0.0->notebook>=4.4.1->widgetsnbextension~=3.6.0->ipywidgets->fuzzy_expert) (2.0.1)\n",
            "Requirement already satisfied: python-dateutil>=2.1 in /usr/local/lib/python3.7/dist-packages (from jupyter-client->ipykernel>=4.5.1->ipywidgets->fuzzy_expert) (2.8.2)\n",
            "Requirement already satisfied: testpath in /usr/local/lib/python3.7/dist-packages (from nbconvert<6.0->notebook>=4.4.1->widgetsnbextension~=3.6.0->ipywidgets->fuzzy_expert) (0.6.0)\n",
            "Requirement already satisfied: defusedxml in /usr/local/lib/python3.7/dist-packages (from nbconvert<6.0->notebook>=4.4.1->widgetsnbextension~=3.6.0->ipywidgets->fuzzy_expert) (0.7.1)\n",
            "Requirement already satisfied: bleach in /usr/local/lib/python3.7/dist-packages (from nbconvert<6.0->notebook>=4.4.1->widgetsnbextension~=3.6.0->ipywidgets->fuzzy_expert) (5.0.1)\n",
            "Requirement already satisfied: entrypoints>=0.2.2 in /usr/local/lib/python3.7/dist-packages (from nbconvert<6.0->notebook>=4.4.1->widgetsnbextension~=3.6.0->ipywidgets->fuzzy_expert) (0.4)\n",
            "Requirement already satisfied: pandocfilters>=1.4.1 in /usr/local/lib/python3.7/dist-packages (from nbconvert<6.0->notebook>=4.4.1->widgetsnbextension~=3.6.0->ipywidgets->fuzzy_expert) (1.5.0)\n",
            "Requirement already satisfied: mistune<2,>=0.8.1 in /usr/local/lib/python3.7/dist-packages (from nbconvert<6.0->notebook>=4.4.1->widgetsnbextension~=3.6.0->ipywidgets->fuzzy_expert) (0.8.4)\n",
            "Requirement already satisfied: jsonschema>=2.6 in /usr/local/lib/python3.7/dist-packages (from nbformat->notebook>=4.4.1->widgetsnbextension~=3.6.0->ipywidgets->fuzzy_expert) (4.3.3)\n",
            "Requirement already satisfied: fastjsonschema in /usr/local/lib/python3.7/dist-packages (from nbformat->notebook>=4.4.1->widgetsnbextension~=3.6.0->ipywidgets->fuzzy_expert) (2.16.2)\n",
            "Requirement already satisfied: importlib-metadata>=3.6 in /usr/local/lib/python3.7/dist-packages (from nbformat->notebook>=4.4.1->widgetsnbextension~=3.6.0->ipywidgets->fuzzy_expert) (4.13.0)\n",
            "Requirement already satisfied: zipp>=0.5 in /usr/local/lib/python3.7/dist-packages (from importlib-metadata>=3.6->nbformat->notebook>=4.4.1->widgetsnbextension~=3.6.0->ipywidgets->fuzzy_expert) (3.10.0)\n",
            "Requirement already satisfied: typing-extensions>=3.6.4 in /usr/local/lib/python3.7/dist-packages (from importlib-metadata>=3.6->nbformat->notebook>=4.4.1->widgetsnbextension~=3.6.0->ipywidgets->fuzzy_expert) (4.1.1)\n",
            "Requirement already satisfied: pyrsistent!=0.17.0,!=0.17.1,!=0.17.2,>=0.14.0 in /usr/local/lib/python3.7/dist-packages (from jsonschema>=2.6->nbformat->notebook>=4.4.1->widgetsnbextension~=3.6.0->ipywidgets->fuzzy_expert) (0.19.2)\n",
            "Requirement already satisfied: attrs>=17.4.0 in /usr/local/lib/python3.7/dist-packages (from jsonschema>=2.6->nbformat->notebook>=4.4.1->widgetsnbextension~=3.6.0->ipywidgets->fuzzy_expert) (22.1.0)\n",
            "Requirement already satisfied: importlib-resources>=1.4.0 in /usr/local/lib/python3.7/dist-packages (from jsonschema>=2.6->nbformat->notebook>=4.4.1->widgetsnbextension~=3.6.0->ipywidgets->fuzzy_expert) (5.10.0)\n",
            "Requirement already satisfied: ptyprocess in /usr/local/lib/python3.7/dist-packages (from terminado>=0.8.1->notebook>=4.4.1->widgetsnbextension~=3.6.0->ipywidgets->fuzzy_expert) (0.7.0)\n",
            "Requirement already satisfied: webencodings in /usr/local/lib/python3.7/dist-packages (from bleach->nbconvert<6.0->notebook>=4.4.1->widgetsnbextension~=3.6.0->ipywidgets->fuzzy_expert) (0.5.1)\n",
            "Requirement already satisfied: pyparsing!=2.0.4,!=2.1.2,!=2.1.6,>=2.0.1 in /usr/local/lib/python3.7/dist-packages (from matplotlib->fuzzy_expert) (3.0.9)\n",
            "Requirement already satisfied: kiwisolver>=1.0.1 in /usr/local/lib/python3.7/dist-packages (from matplotlib->fuzzy_expert) (1.4.4)\n",
            "Requirement already satisfied: cycler>=0.10 in /usr/local/lib/python3.7/dist-packages (from matplotlib->fuzzy_expert) (0.11.0)\n",
            "Requirement already satisfied: pytz>=2017.3 in /usr/local/lib/python3.7/dist-packages (from pandas->fuzzy_expert) (2022.6)\n",
            "Requirement already satisfied: python-utils>=2.3.0 in /usr/local/lib/python3.7/dist-packages (from progressbar2->fuzzy_expert) (3.4.5)\n"
          ]
        }
      ]
    },
    {
      "cell_type": "markdown",
      "source": [
        "This only needs to be done if running on a local machines, where the path points to where the fuzzy expert package is kept"
      ],
      "metadata": {
        "id": "jAWK5d_nvMDb"
      }
    },
    {
      "cell_type": "code",
      "execution_count": null,
      "metadata": {
        "id": "sIdpWhRVHdEI"
      },
      "outputs": [],
      "source": [
        "# import os\n",
        "\n",
        "# os.chdir(r\"C:\\Users\\suma\\anaconda3\\Lib\\site-packages\\fuzzy_expert\") #change the path as required"
      ]
    },
    {
      "cell_type": "code",
      "execution_count": null,
      "metadata": {
        "id": "OrGidvX2HdEJ"
      },
      "outputs": [],
      "source": [
        "#import the dependencies\n",
        "\n",
        "import warnings\n",
        "\n",
        "warnings.filterwarnings(\"ignore\")"
      ]
    },
    {
      "cell_type": "code",
      "execution_count": null,
      "metadata": {
        "id": "yBZsXH15HdEJ"
      },
      "outputs": [],
      "source": [
        "import matplotlib.pyplot as plt\n",
        "import numpy as np\n",
        "from fuzzy_expert.variable import FuzzyVariable\n",
        "from fuzzy_expert.rule import FuzzyRule\n",
        "from fuzzy_expert.inference import DecompositionalInference\n",
        "import matplotlib.animation as animation"
      ]
    },
    {
      "cell_type": "code",
      "execution_count": null,
      "metadata": {
        "id": "86fIxdqpHdEK"
      },
      "outputs": [],
      "source": [
        "#maximum length of the maze (i.e when diagonal)\n",
        "\n",
        "length = 200"
      ]
    },
    {
      "cell_type": "code",
      "execution_count": null,
      "metadata": {
        "id": "Ymwu-xxGHdEL"
      },
      "outputs": [],
      "source": [
        "#parameters of the fuzzy sets\n",
        "\n",
        "slow0 = 0\n",
        "slow1 = moderate0 = 5\n",
        "slow2 = moderate1 = fast0 = 10\n",
        "moderate2 = fast1 = 15\n",
        "fast2 = 20\n",
        "num_angles = 6\n",
        "angle_flexion = 180/num_angles"
      ]
    },
    {
      "cell_type": "code",
      "execution_count": null,
      "metadata": {
        "id": "E8NTfR4GHdEP"
      },
      "outputs": [],
      "source": [
        "#setting up the fuzzy sets\n",
        "\n",
        "variables = {\n",
        "    \"sensor0\": FuzzyVariable(\n",
        "        universe_range=(0, length),\n",
        "        terms={\n",
        "            \"near\": [(0, 1), (5, 1), (8, 0), (length, 0)],\n",
        "            \"far\": [(7, 0), (10, 1), (length, 1)],\n",
        "        },\n",
        "    ),\n",
        "    \"sensor90\": FuzzyVariable(\n",
        "        universe_range=(0, length),\n",
        "        terms={\n",
        "            \"near\": [(0, 1), (5, 1), (8, 0), (length, 0)],\n",
        "            \"far\": [(7, 0), (10, 1), (length, 1)],\n",
        "        },\n",
        "    ),\n",
        "    #\n",
        "    \"sensor180\": FuzzyVariable(\n",
        "        universe_range=(0, length),\n",
        "        terms={\n",
        "            \"near\": [(0, 1), (5, 1), (8, 0), (length, 0)],\n",
        "            \"far\": [(7, 0), (10, 1), (length, 1)],\n",
        "        },\n",
        "    ),\n",
        "    #\n",
        "    \"speed\": FuzzyVariable(\n",
        "        universe_range=(0, fast2),\n",
        "        terms={\n",
        "            \"slow\": [(slow0, 0), (slow1, 1), (slow2, 0)],\n",
        "            \"moderate\": [(moderate0, 0), (moderate1, 1), (moderate2, 0)],\n",
        "            \"fast\": [(fast0, 0), (fast1, 1), (fast2, 0)],\n",
        "        },\n",
        "    ),\n",
        "    #\n",
        "    \"angle\": FuzzyVariable(\n",
        "        universe_range=(0*angle_flexion-5,9*angle_flexion+5),\n",
        "        terms={\n",
        "            \"right\": [(0*angle_flexion-5, 0), (0*angle_flexion, 1), (0*angle_flexion+5, 0)],\n",
        "            \"straight\": [(3*angle_flexion-5, 0), (3*angle_flexion, 1), (3*angle_flexion+5, 0)],\n",
        "            \"left\": [(6*angle_flexion-5, 0), (6*angle_flexion, 1), (6*angle_flexion+5, 0)],\n",
        "#             \"backwardright\":[(6*angle_flexion,0),(7*angle_flexion,1),(8*angle_flexion,0)],\n",
        "             \"backward\":[(9*angle_flexion-5,0),(9*angle_flexion,1),(9*angle_flexion+5,0)],\n",
        "#             \"backwardleft\":[(11*angle_flexion,0),(11*angle_flexion,1),(11*angle_flexion,0)]\n",
        "        },\n",
        "    ),\n",
        "}"
      ]
    },
    {
      "cell_type": "code",
      "source": [
        "plt.figure(figsize=(10, 2.5))\n",
        "variables[\"angle\"].plot()"
      ],
      "metadata": {
        "colab": {
          "base_uri": "https://localhost:8080/",
          "height": 184
        },
        "id": "7hkCDUNTvnW5",
        "outputId": "260574ec-6797-4f72-9d83-fbae96ede2be"
      },
      "execution_count": null,
      "outputs": [
        {
          "output_type": "display_data",
          "data": {
            "text/plain": [
              "<Figure size 720x180 with 1 Axes>"
            ],
            "image/png": "[encoded data removed]"
          },
          "metadata": {
            "needs_background": "light"
          }
        }
      ]
    },
    {
      "cell_type": "code",
      "source": [
        "plt.figure(figsize=(10, 2.5))\n",
        "variables[\"speed\"].plot()"
      ],
      "metadata": {
        "colab": {
          "base_uri": "https://localhost:8080/",
          "height": 184
        },
        "id": "LuFx91t_vwEP",
        "outputId": "112a4627-2d6b-4cda-bc96-336b20d8dab6"
      },
      "execution_count": null,
      "outputs": [
        {
          "output_type": "display_data",
          "data": {
            "text/plain": [
              "<Figure size 720x180 with 1 Axes>"
            ],
            "image/png": "[encoded data removed]"
          },
          "metadata": {
            "needs_background": "light"
          }
        }
      ]
    },
    {
      "cell_type": "code",
      "execution_count": null,
      "metadata": {
        "colab": {
          "base_uri": "https://localhost:8080/",
          "height": 184
        },
        "id": "tz9W7dyHHdER",
        "outputId": "0407dbea-5541-47fc-a0eb-b84bd2143467"
      },
      "outputs": [
        {
          "output_type": "display_data",
          "data": {
            "text/plain": [
              "<Figure size 720x180 with 1 Axes>"
            ],
            "image/png": "[encoded data removed]"
          },
          "metadata": {
            "needs_background": "light"
          }
        }
      ],
      "source": [
        "plt.figure(figsize=(10, 2.5))\n",
        "variables[\"sensor0\"].plot()"
      ]
    },
    {
      "cell_type": "code",
      "execution_count": null,
      "metadata": {
        "colab": {
          "base_uri": "https://localhost:8080/",
          "height": 184
        },
        "id": "U9f2eRDVHdER",
        "outputId": "d8e321eb-e8a5-45f7-9dfc-7212ba0b01f4"
      },
      "outputs": [
        {
          "output_type": "display_data",
          "data": {
            "text/plain": [
              "<Figure size 720x180 with 1 Axes>"
            ],
            "image/png": "[encoded data removed]"
          },
          "metadata": {
            "needs_background": "light"
          }
        }
      ],
      "source": [
        "plt.figure(figsize=(10, 2.5))\n",
        "variables[\"sensor90\"].plot()"
      ]
    },
    {
      "cell_type": "code",
      "execution_count": null,
      "metadata": {
        "colab": {
          "base_uri": "https://localhost:8080/",
          "height": 184
        },
        "id": "JBjgkYCzHdES",
        "outputId": "9aa05a26-a578-4284-c49b-316f6361856c"
      },
      "outputs": [
        {
          "output_type": "display_data",
          "data": {
            "text/plain": [
              "<Figure size 720x180 with 1 Axes>"
            ],
            "image/png": "[encoded data removed]"
          },
          "metadata": {
            "needs_background": "light"
          }
        }
      ],
      "source": [
        "plt.figure(figsize=(10, 2.5))\n",
        "variables[\"sensor180\"].plot()"
      ]
    },
    {
      "cell_type": "code",
      "execution_count": null,
      "metadata": {
        "id": "ZRHLD4HHHdET"
      },
      "outputs": [],
      "source": [
        "#these help us in autmating the rule making process\n",
        "\n",
        "def TemplatePremise3Sensors(a):\n",
        "    temp = [\n",
        "            (\"sensor0\", a[0]),\n",
        "            (\"AND\", \"sensor90\", a[1]),\n",
        "            (\"AND\", \"sensor180\", a[2]),\n",
        "        ]\n",
        "    return temp"
      ]
    },
    {
      "cell_type": "code",
      "execution_count": null,
      "metadata": {
        "id": "TNFOzuvoHdET"
      },
      "outputs": [],
      "source": [
        "def TemplateConsequence3Sensors(a):\n",
        "    temp = [\n",
        "            (\"speed\", a[0]),\n",
        "            (\"angle\",a[1]),\n",
        "        ]\n",
        "    return temp"
      ]
    },
    {
      "cell_type": "code",
      "execution_count": null,
      "metadata": {
        "id": "6h6un6C3HdET"
      },
      "outputs": [],
      "source": [
        "def AllPermutations(a,b,n):\n",
        "    \n",
        "    if n==0:\n",
        "        return a\n",
        "    \n",
        "    temp = []\n",
        "    for i in a:\n",
        "        for j in b:\n",
        "            temp1 = i[:]\n",
        "            temp1.append(j)\n",
        "            \n",
        "            temp.append(temp1)\n",
        "            \n",
        "    return AllPermutations(temp,b,n-1)"
      ]
    },
    {
      "cell_type": "code",
      "execution_count": null,
      "metadata": {
        "scrolled": true,
        "colab": {
          "base_uri": "https://localhost:8080/"
        },
        "id": "KRNZWDbzHdEU",
        "outputId": "6468ce75-7611-4f14-9f0c-3b179c54f800"
      },
      "outputs": [
        {
          "output_type": "execute_result",
          "data": {
            "text/plain": [
              "[['near', 'near', 'near'],\n",
              " ['near', 'near', 'medium'],\n",
              " ['near', 'near', 'far'],\n",
              " ['near', 'medium', 'near'],\n",
              " ['near', 'medium', 'medium'],\n",
              " ['near', 'medium', 'far'],\n",
              " ['near', 'far', 'near'],\n",
              " ['near', 'far', 'medium'],\n",
              " ['near', 'far', 'far'],\n",
              " ['medium', 'near', 'near'],\n",
              " ['medium', 'near', 'medium'],\n",
              " ['medium', 'near', 'far'],\n",
              " ['medium', 'medium', 'near'],\n",
              " ['medium', 'medium', 'medium'],\n",
              " ['medium', 'medium', 'far'],\n",
              " ['medium', 'far', 'near'],\n",
              " ['medium', 'far', 'medium'],\n",
              " ['medium', 'far', 'far'],\n",
              " ['far', 'near', 'near'],\n",
              " ['far', 'near', 'medium'],\n",
              " ['far', 'near', 'far'],\n",
              " ['far', 'medium', 'near'],\n",
              " ['far', 'medium', 'medium'],\n",
              " ['far', 'medium', 'far'],\n",
              " ['far', 'far', 'near'],\n",
              " ['far', 'far', 'medium'],\n",
              " ['far', 'far', 'far']]"
            ]
          },
          "metadata": {},
          "execution_count": 16
        }
      ],
      "source": [
        "AllPermutations([[]],['near','medium','far'],3) #Sanity check"
      ]
    },
    {
      "cell_type": "code",
      "execution_count": null,
      "metadata": {
        "id": "K3IyeEH5HdEU"
      },
      "outputs": [],
      "source": [
        "OutputAttributes = [\n",
        "    \n",
        "    ['slow','backward'],\n",
        "    ['slow','left'],\n",
        "    ['moderate','left'],\n",
        "    ['slow','straight'],\n",
        "    ['slow','left'],\n",
        "    ['moderate','left'],\n",
        "    ['fast','straight'],\n",
        "    ['fast','straight'],\n",
        "    ['fast','straight'],\n",
        "    ['moderate','right'],\n",
        "    ['moderate','right'],\n",
        "    ['slow','left'],\n",
        "    ['moderate','right'],\n",
        "    ['moderate','right'],\n",
        "    ['moderate','left'],\n",
        "    ['fast','straight'],\n",
        "    ['fast','straight'],\n",
        "    ['fast','straight'],\n",
        "    ['moderate','right'],\n",
        "    ['moderate','right'],\n",
        "    ['moderate','right'],\n",
        "    ['moderate','right'],\n",
        "    ['moderate','right'],\n",
        "    ['moderate','straight'],\n",
        "    ['fast','straight'],\n",
        "    ['fast','right'],\n",
        "    ['fast','straight']\n",
        "    \n",
        "]"
      ]
    },
    {
      "cell_type": "code",
      "execution_count": null,
      "metadata": {
        "id": "VTR8FwqoHdEV"
      },
      "outputs": [],
      "source": [
        "InputPossibilities = AllPermutations([[]],['near','medium','far'],3)"
      ]
    },
    {
      "cell_type": "code",
      "execution_count": null,
      "metadata": {
        "id": "XbwIuokuHdEV"
      },
      "outputs": [],
      "source": [
        "noMedium=[]\n",
        "\n",
        "for i in range(len(InputPossibilities)):\n",
        "    if InputPossibilities[i][0]=='medium' or InputPossibilities[i][1]=='medium' or InputPossibilities[i][2]=='medium':\n",
        "        noMedium.append(i)"
      ]
    },
    {
      "cell_type": "code",
      "execution_count": null,
      "metadata": {
        "id": "JosTais5HdEW"
      },
      "outputs": [],
      "source": [
        "rules = [0]*(27-len(noMedium))"
      ]
    },
    {
      "cell_type": "code",
      "execution_count": null,
      "metadata": {
        "id": "C957NQfNHdEW"
      },
      "outputs": [],
      "source": [
        "j=0\n",
        "for i in range(len(InputPossibilities)):\n",
        "    if i not in noMedium:\n",
        "        rules[j] = FuzzyRule(\n",
        "                premise=TemplatePremise3Sensors(InputPossibilities[i]),\n",
        "                consequence=TemplateConsequence3Sensors(OutputAttributes[i]),\n",
        "            ),\n",
        "        j+=1"
      ]
    },
    {
      "cell_type": "code",
      "execution_count": null,
      "metadata": {
        "id": "ePFb8VipHdEX"
      },
      "outputs": [],
      "source": [
        "for i in range(len(rules)):\n",
        "    rules[i] = rules[i][0]"
      ]
    },
    {
      "cell_type": "code",
      "execution_count": null,
      "metadata": {
        "id": "UBobjEt1HdEY"
      },
      "outputs": [],
      "source": [
        "model = DecompositionalInference(\n",
        "    and_operator=\"min\",\n",
        "    or_operator=\"max\",\n",
        "    implication_operator=\"Rc\",\n",
        "    composition_operator=\"max-min\",\n",
        "    production_link=\"max\",\n",
        "    defuzzification_operator=\"cog\",\n",
        ")"
      ]
    },
    {
      "cell_type": "code",
      "execution_count": null,
      "metadata": {
        "scrolled": false,
        "colab": {
          "base_uri": "https://localhost:8080/"
        },
        "id": "2RDdI09DHdEY",
        "outputId": "edebc94e-c7bf-4205-b53e-ad012ee15e44"
      },
      "outputs": [
        {
          "output_type": "execute_result",
          "data": {
            "text/plain": [
              "({'speed': 9.999999999999996, 'angle': -2.2794266474335246e-16}, 1.0)"
            ]
          },
          "metadata": {},
          "execution_count": 24
        }
      ],
      "source": [
        "#this is the model\n",
        "\n",
        "model(\n",
        "    variables=variables,\n",
        "    rules=rules,\n",
        "    sensor0=70,\n",
        "    sensor90=5,\n",
        "    sensor180=20,\n",
        ")"
      ]
    },
    {
      "cell_type": "code",
      "execution_count": null,
      "metadata": {
        "id": "yVQStQizHdEY"
      },
      "outputs": [],
      "source": [
        "#This is the FLC\n",
        "\n",
        "def FLC(s0,s90,s180):\n",
        "    temp = model(\n",
        "                variables=variables,\n",
        "                rules=rules,\n",
        "                sensor0=s0,\n",
        "                sensor90=s90,\n",
        "                sensor180=s180,\n",
        "                )\n",
        "    return [temp[0]['speed'],temp[0]['angle']]"
      ]
    },
    {
      "cell_type": "code",
      "execution_count": null,
      "metadata": {
        "scrolled": false,
        "id": "YhF1g49vHdEZ"
      },
      "outputs": [],
      "source": [
        "#interactive dashboard that shows how the values change as the inputs are changed\n",
        "\n",
        "# from ipywidgets import interact, widgets\n",
        "\n",
        "# def demo(sensor0, sensor90, sensor180):\n",
        "#     plt.figure(figsize=(10,6))\n",
        "#     model.plot(\n",
        "#         variables=variables,\n",
        "#         rules=rules,\n",
        "#         sensor0=sensor0,\n",
        "#         sensor90=sensor90,\n",
        "#         sensor180=sensor180,\n",
        "#     )\n",
        "\n",
        "# interact(\n",
        "#     demo,\n",
        "#     sensor0=widgets.FloatSlider(min=0, max=200),\n",
        "#     sensor90=widgets.FloatSlider(min=0, max=200),\n",
        "#     sensor180=widgets.FloatSlider(min=0, max=200),\n",
        "# )"
      ]
    },
    {
      "cell_type": "markdown",
      "source": [
        "Inserting obstacle functions"
      ],
      "metadata": {
        "id": "i6dhsOp9wPSS"
      }
    },
    {
      "cell_type": "code",
      "execution_count": null,
      "metadata": {
        "id": "U1eNGWsiHdEZ"
      },
      "outputs": [],
      "source": [
        "def insertrectangle(A,leftcorner,length,width):\n",
        "    for i in range(length):\n",
        "        for j in range(width):\n",
        "            A[leftcorner[0]+i,leftcorner[1]+j] = 9"
      ]
    },
    {
      "cell_type": "code",
      "execution_count": null,
      "metadata": {
        "id": "6essFOa9HdEZ"
      },
      "outputs": [],
      "source": [
        "def insertline(A,initialpoint,length,horizontalorvertical):\n",
        "    if horizontalorvertical == \"horizontal\":\n",
        "        for i in range(length):\n",
        "            A[initialpoint[0]+i,initialpoint[1]] = 9\n",
        "    else:\n",
        "        for i in range(length):\n",
        "            A[initialpoint[0],initialpoint[1]+i] = 9"
      ]
    },
    {
      "cell_type": "code",
      "execution_count": null,
      "metadata": {
        "id": "-mtJ8nUsHdEZ"
      },
      "outputs": [],
      "source": [
        "def insertrectanglecoords(A,leftcorner,length,width):\n",
        "    coordsX = []\n",
        "    coordsY = []\n",
        "    for i in range(length):\n",
        "        for j in range(width):\n",
        "            coordsX.append(leftcorner[0]+i)\n",
        "            coordsY.append(leftcorner[1]+j)\n",
        "            \n",
        "    return [coordsX,coordsY]"
      ]
    },
    {
      "cell_type": "code",
      "execution_count": null,
      "metadata": {
        "id": "Ani3bEQ8HdEZ"
      },
      "outputs": [],
      "source": [
        "def insertlinecoords(A,initialpoint,length,horizontalorvertical):\n",
        "    coordsX = []\n",
        "    coordsY = []\n",
        "    if horizontalorvertical == \"horizontal\":\n",
        "        for i in range(length):\n",
        "            coordsX.append(initialpoint[0]+i)\n",
        "            coordsY.append(initialpoint[1])\n",
        "            \n",
        "    else:\n",
        "        for i in range(length):\n",
        "            coordsX.append(initialpoint[0])\n",
        "            coordsY.append(initialpoint[1]+i)\n",
        "            \n",
        "    return [coordsX,coordsY]"
      ]
    },
    {
      "cell_type": "markdown",
      "source": [
        "Getting the readings of the 3 sensors"
      ],
      "metadata": {
        "id": "1FULfQTlwUHy"
      }
    },
    {
      "cell_type": "code",
      "execution_count": null,
      "metadata": {
        "id": "RqYnDJu7HdEa"
      },
      "outputs": [],
      "source": [
        "def sensor0reading(pos,maze):\n",
        "    x = pos[0]\n",
        "    y = pos[1]\n",
        "    r = 0\n",
        "    \n",
        "    while int(maze[x][y])!=9 and y>0:\n",
        "        y-=1\n",
        "        r+=1\n",
        "        \n",
        "    return r"
      ]
    },
    {
      "cell_type": "code",
      "execution_count": null,
      "metadata": {
        "id": "Dhu3LnUcHdEa"
      },
      "outputs": [],
      "source": [
        "def sensor90reading(pos,maze):\n",
        "    x = pos[0]\n",
        "    y = pos[1]\n",
        "    r = 0\n",
        "    \n",
        "    while int(maze[x][y])!=9 and x<len(maze)-1:\n",
        "        x+=1\n",
        "        r+=1\n",
        "        \n",
        "    return r"
      ]
    },
    {
      "cell_type": "code",
      "execution_count": null,
      "metadata": {
        "id": "asSLvxcHHdEa"
      },
      "outputs": [],
      "source": [
        "def sensor180reading(pos,maze):\n",
        "    x = pos[0]\n",
        "    y = pos[1]\n",
        "    r = 0\n",
        "    \n",
        "    while int(maze[x][y])!=9 and y<len(maze)-1:\n",
        "        y+=1\n",
        "        r+=1\n",
        "        \n",
        "    return r"
      ]
    },
    {
      "cell_type": "markdown",
      "source": [
        "The following code was only for the obstacle avoidance and can be ignored unless required"
      ],
      "metadata": {
        "id": "DMYwTjoDwgu5"
      }
    },
    {
      "cell_type": "code",
      "execution_count": null,
      "metadata": {
        "id": "271WPkFlHdEa"
      },
      "outputs": [],
      "source": [
        "# TrainingData = []"
      ]
    },
    {
      "cell_type": "code",
      "execution_count": null,
      "metadata": {
        "scrolled": true,
        "id": "c_PWoru3HdEa"
      },
      "outputs": [],
      "source": [
        "# maze = np.zeros((101,101))\n",
        "\n",
        "# # insertrectangle(maze,[30,30],10,40)\n",
        "# # insertline(maze,[0,45],20,\"horizontal\")\n",
        "# # insertline(maze,[0,55],30,\"horizontal\")\n",
        "\n",
        "# # for i in range(10):\n",
        "# #     maze[45+i][45+i] = 9\n",
        "\n",
        "# for i in range(11):\n",
        "#     maze[45+i][45+i] = 9\n",
        "# for i in range(10):\n",
        "#     maze[45+i][65-i] = 9\n",
        "    \n",
        "# num_epochs = 20\n",
        "\n",
        "# maze[0][50] = 1 #initial position\n",
        "# pos = [0,50]\n",
        "\n",
        "# # for i in maze:\n",
        "# #     print(i)"
      ]
    },
    {
      "cell_type": "code",
      "execution_count": null,
      "metadata": {
        "id": "5S3LEDQeHdEa"
      },
      "outputs": [],
      "source": [
        "# posList = []\n",
        "# v = 0.2"
      ]
    },
    {
      "cell_type": "code",
      "execution_count": null,
      "metadata": {
        "scrolled": true,
        "id": "aA1rWe_cHdEb"
      },
      "outputs": [],
      "source": [
        "# for i in range(num_epochs):\n",
        "    \n",
        "#     temp = pos[:]\n",
        "#     posList.append(temp)\n",
        "    \n",
        "#     maze[pos[0]][pos[1]] = 0\n",
        "        \n",
        "#     s0 = sensor0reading(pos,maze)\n",
        "#     s90 = sensor90reading(pos,maze)\n",
        "#     s180 = sensor180reading(pos,maze)\n",
        "    \n",
        "#     speed,angle = FLC(s0,s90,s180)\n",
        "    \n",
        "#     TrainingData.append([s0,s90,s180,speed,angle])\n",
        "    \n",
        "#     print(str(s0)+\" \"+str(s90)+\" \"+str(s180))\n",
        "#     print(str(speed)+\" \"+str(angle))\n",
        "#     print(str(pos[0])+\" \"+str(pos[1]))\n",
        "#     print(str(pos[0])+\" \"+str(pos[1]))\n",
        "#     print(str(np.cos(angle*np. pi/180))+\" \"+str(np.cos(angle*np. pi/180)*speed*0.1))\n",
        "\n",
        "# #     print(pos)\n",
        "    \n",
        "#     pos[1] -= np.cos(angle*np. pi/180)*speed*v\n",
        "    \n",
        "# #     print(pos)\n",
        "    \n",
        "#     pos[1] = round(pos[1])\n",
        "    \n",
        "# #     print(pos)\n",
        "    \n",
        "#     pos[0] += np.sin(angle*np. pi/180)*speed*v\n",
        "    \n",
        "# #     print(pos)\n",
        "    \n",
        "#     pos[0] = round(pos[0])\n",
        "    \n",
        "# #     print(pos)\n",
        "    \n",
        "#     maze[pos[0]][pos[1]] = 1\n",
        "    \n",
        "# #     for i in maze:\n",
        "# #         print(i)\n",
        "        \n",
        "#     print()\n",
        "#     print()\n",
        "#     print()"
      ]
    },
    {
      "cell_type": "code",
      "execution_count": null,
      "metadata": {
        "id": "Cd1M1fLQHdEb"
      },
      "outputs": [],
      "source": [
        "# posX = []\n",
        "# posY = []\n",
        "\n",
        "# for i in posList:\n",
        "#     posX.append(i[0])\n",
        "#     posY.append(i[1])"
      ]
    },
    {
      "cell_type": "code",
      "execution_count": null,
      "metadata": {
        "id": "H24qK4lNHdEb"
      },
      "outputs": [],
      "source": [
        "# # xtemp,ytemp = insertrectanglecoords(maze,[30,30],10,40)\n",
        "\n",
        "# # xtemp,ytemp = insertrectanglecoords(maze,[30,30],10,40)\n",
        "# # xtemp+=insertlinecoords(maze,[0,45],20,\"horizontal\")[0]\n",
        "# # ytemp+=insertlinecoords(maze,[0,45],20,\"horizontal\")[1]\n",
        "# # xtemp+=insertlinecoords(maze,[0,55],30,\"horizontal\")[0]\n",
        "# # ytemp+=insertlinecoords(maze,[0,55],30,\"horizontal\")[1]\n",
        "\n",
        "# xtemp=[45+i for i in range(11)]+[45+i for i in range(10)]\n",
        "# ytemp=[45+i for i in range(11)]+[65-i for i in range(10)]\n",
        "\n",
        "# # xtemp=[45+i for i in range(9)]\n",
        "# # ytemp=[45+i for i in range(9)]\n",
        "\n",
        "# # xtemp=[45+i for i in range(10)]\n",
        "# # ytemp=[45+i for i in range(10)]"
      ]
    },
    {
      "cell_type": "code",
      "execution_count": null,
      "metadata": {
        "scrolled": false,
        "id": "PJ71I3nnHdEb"
      },
      "outputs": [],
      "source": [
        "# plt.scatter(posX,posY,marker = 'o')\n",
        "# plt.scatter(xtemp,ytemp,marker = 'x')\n",
        "# plt.xlim([0,101])\n",
        "# plt.ylim([0,101])\n",
        "# plt.plot"
      ]
    },
    {
      "cell_type": "markdown",
      "source": [
        "Now for the obstacle avoidance + Formation control + target seeking"
      ],
      "metadata": {
        "id": "f5dlu3dGwp9d"
      }
    },
    {
      "cell_type": "markdown",
      "source": [
        "Getting the distances to the target:"
      ],
      "metadata": {
        "id": "Df10_W6Gwvha"
      }
    },
    {
      "cell_type": "code",
      "execution_count": null,
      "metadata": {
        "id": "2ix6vEKFHdEc"
      },
      "outputs": [],
      "source": [
        "def zero90180distancestotarget(currentposition,target):\n",
        "    zero = currentposition[1]-target[1]\n",
        "    oneeighty = -1*zero\n",
        "    zero = max(zero,0)\n",
        "    oneeighty = max(oneeighty,0)\n",
        "    ninety = target[0]-currentposition[0]\n",
        "    \n",
        "    normalisationconst = (zero**2+ninety**2+oneeighty**2)**0.5\n",
        "    \n",
        "    if normalisationconst==0:\n",
        "        return([0,0,0])\n",
        "    \n",
        "    zero = zero/normalisationconst\n",
        "    oneeighty = oneeighty/normalisationconst\n",
        "    ninety = ninety/normalisationconst\n",
        "    \n",
        "    return([zero,ninety,oneeighty])"
      ]
    },
    {
      "cell_type": "code",
      "execution_count": null,
      "metadata": {
        "id": "iwkDi52xHdEc"
      },
      "outputs": [],
      "source": [
        "def alphaforAvoidancevsControl(s0,s90,s180,expectedpath):\n",
        "    \n",
        "    expectedalpha = 0\n",
        "    \n",
        "    if s0/2 < expectedpath[0] or s90/2 < expectedpath[1] or s180/2 < expectedpath[2]:\n",
        "        expectedalpha = 1\n",
        "        \n",
        "    else:\n",
        "        expectedalpha = 0\n",
        "        \n",
        "    return expectedalpha   "
      ]
    },
    {
      "cell_type": "code",
      "source": [
        "def sign(n): \n",
        "  if n<0: return -1 \n",
        "  elif n>0: return 1 \n",
        "  else: 0 "
      ],
      "metadata": {
        "id": "IUPaX5ZC5c0v"
      },
      "execution_count": null,
      "outputs": []
    },
    {
      "cell_type": "markdown",
      "source": [
        "pathchecker checks if the robot will hit an obstacle or not"
      ],
      "metadata": {
        "id": "jeHG5Sxlw2zV"
      }
    },
    {
      "cell_type": "code",
      "source": [
        "def pathchecker(currentpos,x,y,maze):\n",
        "\n",
        "  currentpos1 = currentpos[:]\n",
        "\n",
        "  for i in range(abs(x)):\n",
        "    if int(maze[currentpos1[0]+sign(x)*(i+1)][currentpos1[1]])==9:\n",
        "      return 1\n",
        "  for j in range(abs(y)):\n",
        "    if int(maze[currentpos1[0]+x][currentpos1[1]+(sign(y))*(j+1)])==9:\n",
        "      return 1\n",
        "\n",
        "  return 0"
      ],
      "metadata": {
        "id": "2p8R2MNZTT-2"
      },
      "execution_count": null,
      "outputs": []
    },
    {
      "cell_type": "code",
      "execution_count": null,
      "metadata": {
        "id": "RrJVJ6ItHdEc"
      },
      "outputs": [],
      "source": [
        "def alphadash(expectedpath,currentpos1,maze):\n",
        "    \n",
        "    currentpos = currentpos1[:]\n",
        "    \n",
        "    currentpos[1] -= (expectedpath[0] - expectedpath[2])\n",
        "    currentpos[0] += (expectedpath[1])\n",
        "    \n",
        "    currentpos[1] = round(currentpos[1])\n",
        "    currentpos[0] = round(currentpos[0])\n",
        "    \n",
        "#     print(currentpos)\n",
        "#     print(maze[currentpos[0]][currentpos[1]])\n",
        "        \n",
        "    if int(maze[currentpos[0]][currentpos[1]])==9:\n",
        "        return 1\n",
        "    else:\n",
        "        return 0"
      ]
    },
    {
      "cell_type": "code",
      "execution_count": null,
      "metadata": {
        "id": "wgsAwrpyqWsk"
      },
      "outputs": [],
      "source": [
        "maze = np.zeros((101,101))\n",
        "    \n",
        "num_epochs = 100 #number of epochs\n",
        "\n",
        "v = 0.2 #scaling factor of obstacle avoidance"
      ]
    },
    {
      "cell_type": "markdown",
      "source": [
        "Inserting the obstacles"
      ],
      "metadata": {
        "id": "h9NG8l_ExH3G"
      }
    },
    {
      "cell_type": "code",
      "source": [
        "insertrectangle(maze,[30,30],10,40)\n",
        "# insertline(maze,[0,40],20,\"horizontal\")\n",
        "# insertline(maze,[0,60],30,\"horizontal\")\n",
        "\n",
        "for i in range(21):\n",
        "    maze[35+i][35+i] = 9\n",
        "\n",
        "for i in range(11):\n",
        "    maze[70+i][45+i] = 9\n",
        "\n",
        "# for i in range(11):\n",
        "#     maze[40+i][40+i] = 9\n",
        "# for i in range(10):\n",
        "#     maze[40+i][60-i] = 9\n",
        "\n",
        "# for i in range(11):\n",
        "#     maze[41+i][40+i] = 9\n",
        "# for i in range(10):\n",
        "#     maze[50+i][60-i] = 9"
      ],
      "metadata": {
        "id": "eTUfgW_Uw-Nl"
      },
      "execution_count": null,
      "outputs": []
    },
    {
      "cell_type": "markdown",
      "source": [
        "Getting the coordinates of the obstacles for plotting"
      ],
      "metadata": {
        "id": "-JrKUZnZxKmm"
      }
    },
    {
      "cell_type": "code",
      "source": [
        "# xtemp,ytemp = insertrectanglecoords(maze,[30,30],10,40)\n",
        "\n",
        "# xtemp,ytemp = insertrectanglecoords(maze,[30,30],10,40)\n",
        "# xtemp+=insertlinecoords(maze,[0,40],20,\"horizontal\")[0]\n",
        "# ytemp+=insertlinecoords(maze,[0,40],20,\"horizontal\")[1]\n",
        "# xtemp+=insertlinecoords(maze,[0,60],30,\"horizontal\")[0]\n",
        "# ytemp+=insertlinecoords(maze,[0,60],30,\"horizontal\")[1]\n",
        "\n",
        "# xtemp=[40+i for i in range(11)]+[40+i for i in range(10)]\n",
        "# ytemp=[40+i for i in range(11)]+[60-i for i in range(10)]\n",
        "\n",
        "# xtemp+=[40+i for i in range(11)]+[40+i for i in range(10)]\n",
        "# ytemp+=[40+i for i in range(11)]+[60-i for i in range(10)]\n",
        "\n",
        "xtemp=[35+i for i in range(21)]\n",
        "ytemp=[35+i for i in range(21)]\n",
        "\n",
        "xtemp+=[70+i for i in range(11)]\n",
        "ytemp+=[45+i for i in range(11)]\n",
        "\n",
        "# xtemp=[45+i for i in range(10)]\n",
        "# ytemp=[45+i for i in range(10)]"
      ],
      "metadata": {
        "id": "A1T7H6EUxB8Y"
      },
      "execution_count": null,
      "outputs": []
    },
    {
      "cell_type": "markdown",
      "source": [
        "numbots = number of bots <br>\n",
        "actualwrtleader = position of these bots wrt to the leader, the first is always [0,0] to signify that its the leader <br>\n",
        "Target = coordinates of the final target"
      ],
      "metadata": {
        "id": "IS3EITbMxQub"
      }
    },
    {
      "cell_type": "code",
      "execution_count": null,
      "metadata": {
        "colab": {
          "base_uri": "https://localhost:8080/"
        },
        "outputId": "d9808cce-cb5c-484d-ea3d-3a2ffa692e67",
        "id": "GsHrcoATqWsl"
      },
      "outputs": [
        {
          "output_type": "stream",
          "name": "stdout",
          "text": [
            "0\n",
            "1\n",
            "2\n",
            "3\n",
            "4\n",
            "5\n",
            "6\n",
            "7\n",
            "8\n",
            "9\n",
            "10\n",
            "11\n",
            "12\n",
            "13\n",
            "14\n",
            "15\n",
            "16\n",
            "17\n",
            "18\n",
            "19\n",
            "20\n",
            "21\n",
            "22\n",
            "23\n",
            "24\n",
            "25\n",
            "26\n",
            "27\n",
            "28\n",
            "29\n",
            "30\n",
            "31\n",
            "32\n",
            "33\n",
            "34\n",
            "35\n",
            "36\n",
            "37\n",
            "38\n",
            "39\n",
            "40\n",
            "41\n",
            "42\n",
            "43\n",
            "44\n",
            "45\n",
            "46\n",
            "47\n",
            "48\n",
            "49\n",
            "50\n",
            "51\n",
            "52\n",
            "53\n",
            "54\n",
            "55\n",
            "56\n",
            "57\n",
            "58\n",
            "59\n",
            "60\n",
            "61\n",
            "62\n",
            "63\n",
            "64\n",
            "65\n",
            "66\n",
            "67\n",
            "68\n",
            "69\n",
            "70\n",
            "71\n",
            "72\n",
            "73\n",
            "74\n",
            "75\n",
            "76\n",
            "77\n",
            "78\n",
            "79\n",
            "80\n",
            "81\n",
            "82\n",
            "83\n",
            "84\n",
            "85\n",
            "86\n",
            "87\n",
            "88\n",
            "89\n",
            "90\n",
            "91\n",
            "92\n",
            "93\n",
            "94\n",
            "95\n",
            "96\n",
            "97\n",
            "98\n",
            "99\n"
          ]
        }
      ],
      "source": [
        "numbots = 4\n",
        "actualwrtleader = [[0,0],[-5,5],[-5,-5],[-10,0]]\n",
        "# xmax = -8\n",
        "# ymax = -5\n",
        "leader = [10,48]\n",
        "allpos = [0]*numbots\n",
        "\n",
        "globalpositions = [0]*numbots\n",
        "for i in range(len(globalpositions)):\n",
        "    globalpositions[i] = [leader[0]+actualwrtleader[i][0],leader[1]+actualwrtleader[i][1]]\n",
        "    \n",
        "listofpos = [0]*numbots\n",
        "for i in range(numbots):\n",
        "    listofpos[i] = [0]*2\n",
        "    for j in range(2):\n",
        "        listofpos[i][j] = []\n",
        "\n",
        "for i in range(numbots):\n",
        "    allpos[i] = []\n",
        "    \n",
        "target = [80,50]\n",
        "\n",
        "alpha = 0\n",
        "speed2 = 2\n",
        "\n",
        "for i in range(num_epochs):\n",
        "\n",
        "    print(i)\n",
        "    \n",
        "    for j in range(numbots):\n",
        "        listofpos[j][0].append(globalpositions[j][0])\n",
        "        listofpos[j][1].append(globalpositions[j][1])\n",
        "        temp = globalpositions[j][:]\n",
        "        allpos[j].append(temp[:])\n",
        "    \n",
        "    for j in range(numbots):\n",
        "        \n",
        "        if j==0:\n",
        "            leadervectortotarget = zero90180distancestotarget(globalpositions[0],target)\n",
        "            for k in range(len(leadervectortotarget)):\n",
        "                leadervectortotarget[k] = leadervectortotarget[k]*speed2\n",
        "                \n",
        "            s0 = sensor0reading(globalpositions[j],maze)\n",
        "            s90 = sensor90reading(globalpositions[j],maze)\n",
        "            s180 = sensor180reading(globalpositions[j],maze)\n",
        "\n",
        "            speed,angle = FLC(s0,s90,s180)\n",
        "            \n",
        "            # alpha = alphaforAvoidancevsControl(s0,s90,s180,leadervectortotarget)\n",
        "            # alpha = alphadash(leadervectortotarget,globalpositions[0],maze)\n",
        "            alpha = pathchecker(globalpositions[j],round(leadervectortotarget[1]),round(leadervectortotarget[2] - leadervectortotarget[0]),maze)\n",
        "\n",
        "            # print(globalpositions[0])\n",
        "            # print(alpha)\n",
        "                \n",
        "            globalpositions[0][1] = globalpositions[0][1] - (1-alpha)*(leadervectortotarget[0] - leadervectortotarget[2]) - alpha*(np.cos(angle*np. pi/180)*speed*v)\n",
        "            globalpositions[0][0] = globalpositions[0][0] + (1-alpha)*(leadervectortotarget[1]) + alpha*(np.sin(angle*np. pi/180)*speed*v)\n",
        "            \n",
        "            globalpositions[j][1] = round(globalpositions[j][1])\n",
        "            globalpositions[j][0] = round(globalpositions[j][0])\n",
        "\n",
        "            # print(globalpositions[0])\n",
        "            # print(allpos[0])\n",
        "            # print(leadervectortotarget)\n",
        "            # print(str(speed)+\" \"+str(angle))\n",
        "            # print()\n",
        "            \n",
        "\n",
        "            # print(globalpositions)\n",
        "            # print(allpos)\n",
        "\n",
        "            if globalpositions[j] in allpos[j] and abs(target[0]-globalpositions[j][0])+abs(target[1]-globalpositions[j][1])>5:\n",
        "              # print(globalpositions[j])\n",
        "              # print(allpos[j])\n",
        "              # print(alpha)\n",
        "              # print(leadervectortotarget)\n",
        "              # print(str(speed)+\" \"+str(angle))\n",
        "              # print()\n",
        "              globalpositions[j] = allpos[j][-4][:]\n",
        "\n",
        "              globalpositions[j][0] -= int(30*v)\n",
        "              globalpositions[j][1] -= int(30*v)\n",
        "            \n",
        "        else:\n",
        "            targetforbot = [globalpositions[0][0]+actualwrtleader[j][0],globalpositions[0][1]+actualwrtleader[j][1]]\n",
        "            botvectortotarget = zero90180distancestotarget(globalpositions[j],targetforbot)\n",
        "            for k in range(len(botvectortotarget)):\n",
        "                botvectortotarget[k] = botvectortotarget[k]*speed2\n",
        "                \n",
        "            s0 = sensor0reading(globalpositions[j],maze)\n",
        "            s90 = sensor90reading(globalpositions[j],maze)\n",
        "            s180 = sensor180reading(globalpositions[j],maze)\n",
        "\n",
        "            speed,angle = FLC(s0,s90,s180)\n",
        "            \n",
        "            # alpha = alphaforAvoidancevsControl(s0,s90,s180,botvectortotarget)\n",
        "            # alpha = alphadash(botvectortotarget,globalpositions[j],maze)\n",
        "            alpha = pathchecker(globalpositions[j],round(botvectortotarget[1]),round(botvectortotarget[2] - botvectortotarget[0]),maze)\n",
        "                \n",
        "            globalpositions[j][1] = globalpositions[j][1] - (1-alpha)*(botvectortotarget[0] - botvectortotarget[2]) - alpha*(np.cos(angle*np. pi/180)*speed*v)\n",
        "            globalpositions[j][0] = globalpositions[j][0] + (1-alpha)*(botvectortotarget[1]) + alpha*(np.sin(angle*np. pi/180)*speed*v)\n",
        "            \n",
        "            globalpositions[j][1] = round(globalpositions[j][1])\n",
        "            globalpositions[j][0] = round(globalpositions[j][0])\n",
        "\n",
        "            if globalpositions[j] in allpos[j] and abs(target[0]+actualwrtleader[j][0]-globalpositions[j][0])+abs(target[1]+actualwrtleader[j][1]-globalpositions[j][1])>5:\n",
        "              # print(globalpositions[j])\n",
        "              # print(allpos[j])\n",
        "              # print(alpha)\n",
        "              # print(botvectortotarget)\n",
        "              # print(str(speed)+\" \"+str(angle))\n",
        "              # print()\n",
        "              globalpositions[j] = allpos[j][-4][:]\n",
        "\n",
        "              globalpositions[j][0] -= int(30*v)\n",
        "              globalpositions[j][1] -= int(30*v)"
      ]
    },
    {
      "cell_type": "markdown",
      "source": [
        "plotting the output paths + obstacles + starting and ending positions"
      ],
      "metadata": {
        "id": "FGSnR7_Xxjyf"
      }
    },
    {
      "cell_type": "code",
      "execution_count": null,
      "metadata": {
        "scrolled": true,
        "colab": {
          "base_uri": "https://localhost:8080/",
          "height": 285
        },
        "id": "-pG7tqMEqWsl",
        "outputId": "a4f145a8-229b-4f03-fb24-ea64637087f9"
      },
      "outputs": [
        {
          "output_type": "execute_result",
          "data": {
            "text/plain": [
              "<function matplotlib.pyplot.plot(*args, scalex=True, scaley=True, data=None, **kwargs)>"
            ]
          },
          "metadata": {},
          "execution_count": 114
        },
        {
          "output_type": "display_data",
          "data": {
            "text/plain": [
              "<Figure size 432x288 with 1 Axes>"
            ],
            "image/png": "[encoded data removed]"
          },
          "metadata": {
            "needs_background": "light"
          }
        }
      ],
      "source": [
        "plt.scatter(xtemp,ytemp, marker = 'x', color= 'black')\n",
        "\n",
        "start = [[],[]]\n",
        "for i in listofpos:\n",
        "    start[0].append(i[0][0])\n",
        "    start[1].append(i[1][0])\n",
        "\n",
        "end = [[],[]]\n",
        "for i in actualwrtleader:\n",
        "    end[0].append(i[0]+target[0])\n",
        "    end[1].append(i[1]+target[1])\n",
        "\n",
        "for i in listofpos:\n",
        "    plt.scatter(i[0][1:],i[1][1:])\n",
        "\n",
        "plt.scatter(start[0],start[1], marker = 'x')\n",
        "plt.scatter(end[0],end[1], marker = 'x')\n",
        "\n",
        "plt.xlim([0,101])\n",
        "plt.ylim([0,101])\n",
        "plt.plot"
      ]
    },
    {
      "cell_type": "code",
      "source": [
        "fig, ax1 = plt.subplots(1,1)\n",
        "\n",
        "def animate(i,argu):\n",
        "    print(i, argu)\n",
        "\n",
        "    ax1.clear()\n",
        "    ax1.set_xlim(0,101)\n",
        "    ax1.set_ylim(0,101)\n",
        "    for temp in listofpos:\n",
        "      ax1.scatter(temp[0][i],temp[1][i])\n",
        "    ax1.scatter(xtemp, ytemp)\n",
        "    plt.grid()\n",
        "\n",
        "ani = animation.FuncAnimation(fig, animate, fargs=[5],interval = 100)"
      ],
      "metadata": {
        "colab": {
          "base_uri": "https://localhost:8080/",
          "height": 285
        },
        "id": "i6sK7xqZ-Kyl",
        "outputId": "ed58c145-ffe8-45ed-ce88-38db901d0456"
      },
      "execution_count": null,
      "outputs": [
        {
          "output_type": "stream",
          "name": "stdout",
          "text": [
            "0 5\n"
          ]
        },
        {
          "output_type": "display_data",
          "data": {
            "text/plain": [
              "<Figure size 432x288 with 1 Axes>"
            ],
            "image/png": "[encoded data removed]"
          },
          "metadata": {
            "needs_background": "light"
          }
        }
      ]
    },
    {
      "cell_type": "code",
      "source": [
        "Writer = animation.writers['ffmpeg']\n",
        "writer = Writer(fps=15, metadata=dict(artist='Me'), bitrate=1800)"
      ],
      "metadata": {
        "id": "pvmcDJBQHbvw"
      },
      "execution_count": null,
      "outputs": []
    },
    {
      "cell_type": "code",
      "source": [
        "ani.save('video5.mp4', writer=writer)"
      ],
      "metadata": {
        "colab": {
          "base_uri": "https://localhost:8080/",
          "height": 1000
        },
        "id": "jCnyzAhITFsc",
        "outputId": "b4d269b1-93b7-4935-c7f2-284c715e3e92"
      },
      "execution_count": null,
      "outputs": [
        {
          "output_type": "stream",
          "name": "stdout",
          "text": [
            "0 5\n",
            "0 5\n",
            "1 5\n",
            "2 5\n",
            "3 5\n",
            "4 5\n",
            "5 5\n",
            "6 5\n",
            "7 5\n",
            "8 5\n",
            "9 5\n",
            "10 5\n",
            "11 5\n",
            "12 5\n",
            "13 5\n",
            "14 5\n",
            "15 5\n",
            "16 5\n",
            "17 5\n",
            "18 5\n",
            "19 5\n",
            "20 5\n",
            "21 5\n",
            "22 5\n",
            "23 5\n",
            "24 5\n",
            "25 5\n",
            "26 5\n",
            "27 5\n",
            "28 5\n",
            "29 5\n",
            "30 5\n",
            "31 5\n",
            "32 5\n",
            "33 5\n",
            "34 5\n",
            "35 5\n",
            "36 5\n",
            "37 5\n",
            "38 5\n",
            "39 5\n",
            "40 5\n",
            "41 5\n",
            "42 5\n",
            "43 5\n",
            "44 5\n",
            "45 5\n",
            "46 5\n",
            "47 5\n",
            "48 5\n",
            "49 5\n",
            "50 5\n",
            "51 5\n",
            "52 5\n",
            "53 5\n",
            "54 5\n",
            "55 5\n",
            "56 5\n",
            "57 5\n",
            "58 5\n",
            "59 5\n",
            "60 5\n",
            "61 5\n",
            "62 5\n",
            "63 5\n",
            "64 5\n",
            "65 5\n",
            "66 5\n",
            "67 5\n",
            "68 5\n",
            "69 5\n",
            "70 5\n",
            "71 5\n",
            "72 5\n",
            "73 5\n",
            "74 5\n",
            "75 5\n",
            "76 5\n",
            "77 5\n",
            "78 5\n",
            "79 5\n",
            "80 5\n",
            "81 5\n",
            "82 5\n",
            "83 5\n",
            "84 5\n",
            "85 5\n",
            "86 5\n",
            "87 5\n",
            "88 5\n",
            "89 5\n",
            "90 5\n",
            "91 5\n",
            "92 5\n",
            "93 5\n",
            "94 5\n",
            "95 5\n",
            "96 5\n",
            "97 5\n",
            "98 5\n",
            "99 5\n"
          ]
        },
        {
          "output_type": "display_data",
          "data": {
            "text/plain": [
              "<Figure size 432x288 with 1 Axes>"
            ],
            "image/png": "[encoded data removed]"
          },
          "metadata": {
            "needs_background": "light"
          }
        }
      ]
    },
    {
      "cell_type": "markdown",
      "source": [
        "End of Code"
      ],
      "metadata": {
        "id": "Pofheu2tyZPt"
      }
    }
  ],
  "metadata": {
    "kernelspec": {
      "display_name": "Python 3 (ipykernel)",
      "language": "python",
      "name": "python3"
    },
    "language_info": {
      "codemirror_mode": {
        "name": "ipython",
        "version": 3
      },
      "file_extension": ".py",
      "mimetype": "text/x-python",
      "name": "python",
      "nbconvert_exporter": "python",
      "pygments_lexer": "ipython3",
      "version": "3.8.5"
    },
    "colab": {
      "provenance": []
    }
  },
  "nbformat": 4,
  "nbformat_minor": 0
}